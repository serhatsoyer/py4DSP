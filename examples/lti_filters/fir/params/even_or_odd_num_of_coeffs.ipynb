{
 "cells": [
  {
   "cell_type": "markdown",
   "metadata": {},
   "source": [
    "## Even or Odd *num_of_coeffs*\n",
    "### Band-Stop FIR Filter\n",
    "\n",
    "---------------------------------------------------------------------------\n",
    "ValueError                                Traceback (most recent call last)\n",
    "/var/folders/nv/1lnhsc192bn07tb_0cbr62v80000gn/T/ipykernel_14709/1082599448.py in <module>\n",
    "      1 num_of_coeffs = 80 # Number of coefficients, i.e. the filter order + 1\n",
    "      2 cutoff_freqs = [.2, .6]\n",
    "----> 3 numerator_coeffs = signal.firwin(num_of_coeffs, cutoff_freqs) # FIR (LPF by default)\n",
    "\n",
    "/opt/miniconda3/envs/study/lib/python3.10/site-packages/scipy/signal/_fir_filter_design.py in firwin(numtaps, cutoff, width, window, pass_zero, scale, nyq, fs)\n",
    "    440     pass_nyquist = bool(cutoff.size & 1) ^ pass_zero\n",
    "    441     if pass_nyquist and numtaps % 2 == 0:\n",
    "--> 442         raise ValueError(\"A filter with an even number of coefficients must \"\n",
    "    443                          \"have zero response at the Nyquist frequency.\")\n",
    "    444 \n",
    "\n",
    "ValueError: A filter with an even number of coefficients must have zero response at the Nyquist frequency.\n",
    "\n",
    "- Example without error: [/examples/lti_filters/fir/band-stop.ipynb](https://github.com/serhatsoyer/py4DSP/blob/main/examples/lti_filters/fir/band-stop.ipynb)\n",
    "\n",
    "Next example: [/examples/lti_filters/fir/params/no_filter.ipynb](https://github.com/serhatsoyer/py4DSP/blob/main/examples/lti_filters/fir/params/no_filter.ipynb)"
   ]
  },
  {
   "cell_type": "code",
   "execution_count": 1,
   "metadata": {},
   "outputs": [],
   "source": [
    "import sys\n",
    "sys.path.insert(0, '../../../../') # To be able to reach functions\n",
    "from functions import fft, lti\n",
    "from scipy import signal"
   ]
  },
  {
   "cell_type": "code",
   "execution_count": 2,
   "metadata": {},
   "outputs": [
    {
     "ename": "ValueError",
     "evalue": "A filter with an even number of coefficients must have zero response at the Nyquist frequency.",
     "output_type": "error",
     "traceback": [
      "\u001b[0;31m---------------------------------------------------------------------------\u001b[0m",
      "\u001b[0;31mValueError\u001b[0m                                Traceback (most recent call last)",
      "\u001b[0;32m/var/folders/nv/1lnhsc192bn07tb_0cbr62v80000gn/T/ipykernel_16990/1082599448.py\u001b[0m in \u001b[0;36m<module>\u001b[0;34m\u001b[0m\n\u001b[1;32m      1\u001b[0m \u001b[0mnum_of_coeffs\u001b[0m \u001b[0;34m=\u001b[0m \u001b[0;36m80\u001b[0m \u001b[0;31m# Number of coefficients, i.e. the filter order + 1\u001b[0m\u001b[0;34m\u001b[0m\u001b[0;34m\u001b[0m\u001b[0m\n\u001b[1;32m      2\u001b[0m \u001b[0mcutoff_freqs\u001b[0m \u001b[0;34m=\u001b[0m \u001b[0;34m[\u001b[0m\u001b[0;36m.2\u001b[0m\u001b[0;34m,\u001b[0m \u001b[0;36m.6\u001b[0m\u001b[0;34m]\u001b[0m\u001b[0;34m\u001b[0m\u001b[0;34m\u001b[0m\u001b[0m\n\u001b[0;32m----> 3\u001b[0;31m \u001b[0mnumerator_coeffs\u001b[0m \u001b[0;34m=\u001b[0m \u001b[0msignal\u001b[0m\u001b[0;34m.\u001b[0m\u001b[0mfirwin\u001b[0m\u001b[0;34m(\u001b[0m\u001b[0mnum_of_coeffs\u001b[0m\u001b[0;34m,\u001b[0m \u001b[0mcutoff_freqs\u001b[0m\u001b[0;34m)\u001b[0m \u001b[0;31m# FIR (LPF by default)\u001b[0m\u001b[0;34m\u001b[0m\u001b[0;34m\u001b[0m\u001b[0m\n\u001b[0m",
      "\u001b[0;32m/opt/miniconda3/envs/study/lib/python3.10/site-packages/scipy/signal/_fir_filter_design.py\u001b[0m in \u001b[0;36mfirwin\u001b[0;34m(numtaps, cutoff, width, window, pass_zero, scale, nyq, fs)\u001b[0m\n\u001b[1;32m    440\u001b[0m     \u001b[0mpass_nyquist\u001b[0m \u001b[0;34m=\u001b[0m \u001b[0mbool\u001b[0m\u001b[0;34m(\u001b[0m\u001b[0mcutoff\u001b[0m\u001b[0;34m.\u001b[0m\u001b[0msize\u001b[0m \u001b[0;34m&\u001b[0m \u001b[0;36m1\u001b[0m\u001b[0;34m)\u001b[0m \u001b[0;34m^\u001b[0m \u001b[0mpass_zero\u001b[0m\u001b[0;34m\u001b[0m\u001b[0;34m\u001b[0m\u001b[0m\n\u001b[1;32m    441\u001b[0m     \u001b[0;32mif\u001b[0m \u001b[0mpass_nyquist\u001b[0m \u001b[0;32mand\u001b[0m \u001b[0mnumtaps\u001b[0m \u001b[0;34m%\u001b[0m \u001b[0;36m2\u001b[0m \u001b[0;34m==\u001b[0m \u001b[0;36m0\u001b[0m\u001b[0;34m:\u001b[0m\u001b[0;34m\u001b[0m\u001b[0;34m\u001b[0m\u001b[0m\n\u001b[0;32m--> 442\u001b[0;31m         raise ValueError(\"A filter with an even number of coefficients must \"\n\u001b[0m\u001b[1;32m    443\u001b[0m                          \"have zero response at the Nyquist frequency.\")\n\u001b[1;32m    444\u001b[0m \u001b[0;34m\u001b[0m\u001b[0m\n",
      "\u001b[0;31mValueError\u001b[0m: A filter with an even number of coefficients must have zero response at the Nyquist frequency."
     ]
    }
   ],
   "source": [
    "num_of_coeffs = 80 # Number of coefficients, i.e. the filter order + 1\n",
    "cutoff_freqs = [.2, .6]\n",
    "numerator_coeffs = signal.firwin(num_of_coeffs, cutoff_freqs) # FIR (LPF by default)"
   ]
  },
  {
   "cell_type": "markdown",
   "metadata": {},
   "source": [
    "Next example: [/examples/lti_filters/fir/params/no_filter.ipynb](https://github.com/serhatsoyer/py4DSP/blob/main/examples/lti_filters/fir/params/no_filter.ipynb)"
   ]
  }
 ],
 "metadata": {
  "colab": {
   "authorship_tag": "ABX9TyP1FeOK7v/egWCsVIKGnu/k",
   "name": "Spectrogram.ipynb",
   "provenance": []
  },
  "kernelspec": {
   "display_name": "Python 3.10.6 ('study')",
   "language": "python",
   "name": "python3"
  },
  "language_info": {
   "codemirror_mode": {
    "name": "ipython",
    "version": 3
   },
   "file_extension": ".py",
   "mimetype": "text/x-python",
   "name": "python",
   "nbconvert_exporter": "python",
   "pygments_lexer": "ipython3",
   "version": "3.10.8 (main, Nov 24 2022, 08:08:27) [Clang 14.0.6 ]"
  },
  "vscode": {
   "interpreter": {
    "hash": "29d06b973d1ddb34db3279b24f9b5152402e688db937648b736e855ec4de60c0"
   }
  }
 },
 "nbformat": 4,
 "nbformat_minor": 1
}
