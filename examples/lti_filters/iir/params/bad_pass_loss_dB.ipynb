{
 "cells": [
  {
   "cell_type": "markdown",
   "metadata": {},
   "source": [
    "## Bad *pass_loss_dB*\n",
    "### High-Pass IIR Filter\n",
    "\n",
    "- It is not possible to set *pass_loss_dB* to $0$\n",
    "```\n",
    "20 * np.log10(np.abs(1))\n",
    "```\n",
    "yields 0\n",
    "- It is not possible to set *pass_loss* (direct ratio) to $1$\n",
    "\n",
    "---------------------------------------------------------------------------\n",
    "ValueError                                Traceback (most recent call last)\n",
    "/var/folders/nv/1lnhsc192bn07tb_0cbr62v80000gn/T/ipykernel_15463/1416562312.py in <module>\n",
    "      3 pass_loss_dB = 0\n",
    "      4 stop_loss_dB = 30\n",
    "----> 5 numerator_coeffs, denum_coeffs = signal.iirdesign(pass_freqs, stop_freqs, pass_loss_dB, stop_loss_dB)\n",
    "\n",
    "/opt/miniconda3/envs/study/lib/python3.10/site-packages/scipy/signal/_filter_design.py in iirdesign(wp, ws, gpass, gstop, analog, ftype, output, fs)\n",
    "   2282                           \"iirfilter function.\") % ftype) from e\n",
    "   2283 \n",
    "-> 2284     _validate_gpass_gstop(gpass, gstop)\n",
    "   2285 \n",
    "   2286     wp = atleast_1d(wp)\n",
    "\n",
    "/opt/miniconda3/envs/study/lib/python3.10/site-packages/scipy/signal/_filter_design.py in _validate_gpass_gstop(gpass, gstop)\n",
    "   2141 \n",
    "   2142     if gpass <= 0.0:\n",
    "-> 2143         raise ValueError(\"gpass should be larger than 0.0\")\n",
    "   2144     elif gstop <= 0.0:\n",
    "   2145         raise ValueError(\"gstop should be larger than 0.0\")\n",
    "\n",
    "ValueError: gpass should be larger than 0.0\n",
    "\n",
    "- Look at [/examples/lti_filters/iir/params/good_pass_loss_dB.ipynb](https://github.com/serhatsoyer/py4DSP/blob/main/examples/lti_filters/iir/params/good_pass_loss_dB.ipynb) for a solution\n",
    "\n",
    "Next example: [/examples/lti_filters/iir/params/good_pass_loss_dB.ipynb](https://github.com/serhatsoyer/py4DSP/blob/main/examples/lti_filters/iir/params/good_pass_loss_dB.ipynb)"
   ]
  },
  {
   "cell_type": "code",
   "execution_count": 1,
   "metadata": {},
   "outputs": [],
   "source": [
    "import sys\n",
    "sys.path.insert(0, '../../../../') # To be able to reach functions\n",
    "from functions import fft, lti\n",
    "from scipy import signal"
   ]
  },
  {
   "cell_type": "code",
   "execution_count": 2,
   "metadata": {},
   "outputs": [
    {
     "ename": "ValueError",
     "evalue": "gpass should be larger than 0.0",
     "output_type": "error",
     "traceback": [
      "\u001b[0;31m---------------------------------------------------------------------------\u001b[0m",
      "\u001b[0;31mValueError\u001b[0m                                Traceback (most recent call last)",
      "\u001b[0;32m/var/folders/nv/1lnhsc192bn07tb_0cbr62v80000gn/T/ipykernel_17309/1416562312.py\u001b[0m in \u001b[0;36m<module>\u001b[0;34m\u001b[0m\n\u001b[1;32m      3\u001b[0m \u001b[0mpass_loss_dB\u001b[0m \u001b[0;34m=\u001b[0m \u001b[0;36m0\u001b[0m\u001b[0;34m\u001b[0m\u001b[0;34m\u001b[0m\u001b[0m\n\u001b[1;32m      4\u001b[0m \u001b[0mstop_loss_dB\u001b[0m \u001b[0;34m=\u001b[0m \u001b[0;36m30\u001b[0m\u001b[0;34m\u001b[0m\u001b[0;34m\u001b[0m\u001b[0m\n\u001b[0;32m----> 5\u001b[0;31m \u001b[0mnumerator_coeffs\u001b[0m\u001b[0;34m,\u001b[0m \u001b[0mdenum_coeffs\u001b[0m \u001b[0;34m=\u001b[0m \u001b[0msignal\u001b[0m\u001b[0;34m.\u001b[0m\u001b[0miirdesign\u001b[0m\u001b[0;34m(\u001b[0m\u001b[0mpass_freqs\u001b[0m\u001b[0;34m,\u001b[0m \u001b[0mstop_freqs\u001b[0m\u001b[0;34m,\u001b[0m \u001b[0mpass_loss_dB\u001b[0m\u001b[0;34m,\u001b[0m \u001b[0mstop_loss_dB\u001b[0m\u001b[0;34m)\u001b[0m\u001b[0;34m\u001b[0m\u001b[0;34m\u001b[0m\u001b[0m\n\u001b[0m",
      "\u001b[0;32m/opt/miniconda3/envs/study/lib/python3.10/site-packages/scipy/signal/_filter_design.py\u001b[0m in \u001b[0;36miirdesign\u001b[0;34m(wp, ws, gpass, gstop, analog, ftype, output, fs)\u001b[0m\n\u001b[1;32m   2282\u001b[0m                           \"iirfilter function.\") % ftype) from e\n\u001b[1;32m   2283\u001b[0m \u001b[0;34m\u001b[0m\u001b[0m\n\u001b[0;32m-> 2284\u001b[0;31m     \u001b[0m_validate_gpass_gstop\u001b[0m\u001b[0;34m(\u001b[0m\u001b[0mgpass\u001b[0m\u001b[0;34m,\u001b[0m \u001b[0mgstop\u001b[0m\u001b[0;34m)\u001b[0m\u001b[0;34m\u001b[0m\u001b[0;34m\u001b[0m\u001b[0m\n\u001b[0m\u001b[1;32m   2285\u001b[0m \u001b[0;34m\u001b[0m\u001b[0m\n\u001b[1;32m   2286\u001b[0m     \u001b[0mwp\u001b[0m \u001b[0;34m=\u001b[0m \u001b[0matleast_1d\u001b[0m\u001b[0;34m(\u001b[0m\u001b[0mwp\u001b[0m\u001b[0;34m)\u001b[0m\u001b[0;34m\u001b[0m\u001b[0;34m\u001b[0m\u001b[0m\n",
      "\u001b[0;32m/opt/miniconda3/envs/study/lib/python3.10/site-packages/scipy/signal/_filter_design.py\u001b[0m in \u001b[0;36m_validate_gpass_gstop\u001b[0;34m(gpass, gstop)\u001b[0m\n\u001b[1;32m   2141\u001b[0m \u001b[0;34m\u001b[0m\u001b[0m\n\u001b[1;32m   2142\u001b[0m     \u001b[0;32mif\u001b[0m \u001b[0mgpass\u001b[0m \u001b[0;34m<=\u001b[0m \u001b[0;36m0.0\u001b[0m\u001b[0;34m:\u001b[0m\u001b[0;34m\u001b[0m\u001b[0;34m\u001b[0m\u001b[0m\n\u001b[0;32m-> 2143\u001b[0;31m         \u001b[0;32mraise\u001b[0m \u001b[0mValueError\u001b[0m\u001b[0;34m(\u001b[0m\u001b[0;34m\"gpass should be larger than 0.0\"\u001b[0m\u001b[0;34m)\u001b[0m\u001b[0;34m\u001b[0m\u001b[0;34m\u001b[0m\u001b[0m\n\u001b[0m\u001b[1;32m   2144\u001b[0m     \u001b[0;32melif\u001b[0m \u001b[0mgstop\u001b[0m \u001b[0;34m<=\u001b[0m \u001b[0;36m0.0\u001b[0m\u001b[0;34m:\u001b[0m\u001b[0;34m\u001b[0m\u001b[0;34m\u001b[0m\u001b[0m\n\u001b[1;32m   2145\u001b[0m         \u001b[0;32mraise\u001b[0m \u001b[0mValueError\u001b[0m\u001b[0;34m(\u001b[0m\u001b[0;34m\"gstop should be larger than 0.0\"\u001b[0m\u001b[0;34m)\u001b[0m\u001b[0;34m\u001b[0m\u001b[0;34m\u001b[0m\u001b[0m\n",
      "\u001b[0;31mValueError\u001b[0m: gpass should be larger than 0.0"
     ]
    }
   ],
   "source": [
    "pass_freqs = [.55]\n",
    "stop_freqs = [.45]\n",
    "pass_loss_dB = 0\n",
    "stop_loss_dB = 30\n",
    "numerator_coeffs, denum_coeffs = signal.iirdesign(pass_freqs, stop_freqs, pass_loss_dB, stop_loss_dB)"
   ]
  },
  {
   "cell_type": "markdown",
   "metadata": {},
   "source": [
    "Next example: [/examples/lti_filters/iir/params/good_pass_loss_dB.ipynb](https://github.com/serhatsoyer/py4DSP/blob/main/examples/lti_filters/iir/params/good_pass_loss_dB.ipynb)"
   ]
  }
 ],
 "metadata": {
  "colab": {
   "authorship_tag": "ABX9TyP1FeOK7v/egWCsVIKGnu/k",
   "name": "Spectrogram.ipynb",
   "provenance": []
  },
  "kernelspec": {
   "display_name": "Python 3.10.6 ('study')",
   "language": "python",
   "name": "python3"
  },
  "language_info": {
   "codemirror_mode": {
    "name": "ipython",
    "version": 3
   },
   "file_extension": ".py",
   "mimetype": "text/x-python",
   "name": "python",
   "nbconvert_exporter": "python",
   "pygments_lexer": "ipython3",
   "version": "3.10.8 (main, Nov 24 2022, 08:08:27) [Clang 14.0.6 ]"
  },
  "vscode": {
   "interpreter": {
    "hash": "29d06b973d1ddb34db3279b24f9b5152402e688db937648b736e855ec4de60c0"
   }
  }
 },
 "nbformat": 4,
 "nbformat_minor": 1
}
